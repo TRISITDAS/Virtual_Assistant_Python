{
 "cells": [
  {
   "cell_type": "code",
   "execution_count": 1,
   "id": "970707df",
   "metadata": {},
   "outputs": [],
   "source": [
    "#!pip install SpeechRecognition\n",
    "#!pipwin install PyAudio\n",
    "#!pip install pywhatkit\n",
    "#!pip install pyttsx3\n",
    "#!pip install yfinance\n",
    "#!pip install pyjokes\n",
    "import pyttsx3\n",
    "import webbrowser\n",
    "import datetime\n",
    "import pywhatkit\n",
    "import os\n",
    "import yfinance as yf\n",
    "import pyjokes\n",
    "import wikipedia\n"
   ]
  },
  {
   "cell_type": "code",
   "execution_count": 2,
   "id": "e4189c96",
   "metadata": {},
   "outputs": [],
   "source": [
    "# listen to our microphone and return the audio as text using google\n",
    "import speech_recognition as sr\n",
    "def transform():\n",
    "    r = sr.Recognizer()\n",
    "    with sr.Microphone() as source:\n",
    "        print(\"I am listening\")\n",
    "        r.pause_threshold = 0.8\n",
    "        said = r.listen(source)\n",
    "        try:\n",
    "            q = r.recognize_google(said, language=\"en\")\n",
    "            return q\n",
    "        except sr.UnknownValueError:\n",
    "            print(\"Sorry i Did not Understand\")\n",
    "            return \"I am waiting\"\n",
    "        except sr.RequestError:\n",
    "            print(\"Sorry the service is down\")\n",
    "            return \"I am waiting\"\n",
    "        except:\n",
    "            return \"I am waiting\"\n"
   ]
  },
  {
   "cell_type": "code",
   "execution_count": 3,
   "id": "93a1d314",
   "metadata": {},
   "outputs": [
    {
     "name": "stdout",
     "output_type": "stream",
     "text": [
      "I am listening\n"
     ]
    },
    {
     "data": {
      "text/plain": [
       "'hello'"
      ]
     },
     "execution_count": 3,
     "metadata": {},
     "output_type": "execute_result"
    }
   ],
   "source": [
    "transform()"
   ]
  },
  {
   "cell_type": "code",
   "execution_count": 4,
   "id": "04fc91a9",
   "metadata": {},
   "outputs": [],
   "source": [
    "def speak(message):\n",
    "    engine = pyttsx3.init()\n",
    "    engine.say(message)\n",
    "    engine.runAndWait()"
   ]
  },
  {
   "cell_type": "code",
   "execution_count": 5,
   "id": "cde921f5",
   "metadata": {},
   "outputs": [],
   "source": [
    "speak('hello world')"
   ]
  },
  {
   "cell_type": "code",
   "execution_count": 6,
   "id": "4d50cf4c",
   "metadata": {},
   "outputs": [
    {
     "name": "stdout",
     "output_type": "stream",
     "text": [
      "<Voice id=HKEY_LOCAL_MACHINE\\SOFTWARE\\Microsoft\\Speech\\Voices\\Tokens\\TTS_MS_EN-US_DAVID_11.0\n",
      "          name=Microsoft David Desktop - English (United States)\n",
      "          languages=[]\n",
      "          gender=None\n",
      "          age=None>\n",
      "<Voice id=HKEY_LOCAL_MACHINE\\SOFTWARE\\Microsoft\\Speech\\Voices\\Tokens\\TTS_MS_EN-US_ZIRA_11.0\n",
      "          name=Microsoft Zira Desktop - English (United States)\n",
      "          languages=[]\n",
      "          gender=None\n",
      "          age=None>\n"
     ]
    }
   ],
   "source": [
    "engine = pyttsx3.init()\n",
    "for voice in engine.getProperty('voices'):\n",
    "    print(voice)"
   ]
  },
  {
   "cell_type": "code",
   "execution_count": 7,
   "id": "621a3626",
   "metadata": {},
   "outputs": [],
   "source": [
    "id = 'HKEY_LOCAL_MACHINE\\SOFTWARE\\Microsoft\\Speech\\Voices\\Tokens\\TTS_MS_EN-US_ZIRA_11.0'\n",
    "engine.setProperty('voice',id)\n",
    "engine.say('Hello TRISIT DAS')\n",
    "engine.runAndWait()"
   ]
  },
  {
   "cell_type": "code",
   "execution_count": 8,
   "id": "4551ad6b",
   "metadata": {},
   "outputs": [],
   "source": [
    "#return the week day name\n",
    "def query_day():\n",
    "    day = datetime.date.today()\n",
    "    #print(day)\n",
    "    weekday = day.weekday()\n",
    "    #print(weekday)\n",
    "    mapping={\n",
    "        0:'Monday', 1:'Tuesday', 2:'Wednesday', 3:'Thursday', 4:'Friday', 5:'Saturday', 6:'Sunday'\n",
    "    }\n",
    "    try:\n",
    "        speak(f'Today is {mapping[weekday]}')\n",
    "    except:\n",
    "        pass"
   ]
  },
  {
   "cell_type": "code",
   "execution_count": 9,
   "id": "ff39e624",
   "metadata": {},
   "outputs": [],
   "source": [
    "query_day()"
   ]
  },
  {
   "cell_type": "code",
   "execution_count": 10,
   "id": "e4a647ab",
   "metadata": {},
   "outputs": [],
   "source": [
    "#return the time\n",
    "def query_time():\n",
    "    time = datetime.datetime.now().strftime(\"%I:%M:%S\")\n",
    "    speak(f\"{time[0:2]} o' clock and {time[3:5]} minutes\")\n",
    "    "
   ]
  },
  {
   "cell_type": "code",
   "execution_count": 11,
   "id": "62c6a87a",
   "metadata": {},
   "outputs": [],
   "source": [
    "query_time()"
   ]
  },
  {
   "cell_type": "code",
   "execution_count": 12,
   "id": "8bca2b11",
   "metadata": {},
   "outputs": [],
   "source": [
    "#intro greeting as startup\n",
    "def whatsup():\n",
    "    speak('''Hi, My name is Elia. I am your personal Assistant created by TRISIT.\n",
    "    How may i help you?\n",
    "    ''')"
   ]
  },
  {
   "cell_type": "code",
   "execution_count": 13,
   "id": "440904d9",
   "metadata": {},
   "outputs": [],
   "source": [
    "whatsup()"
   ]
  },
  {
   "cell_type": "code",
   "execution_count": 14,
   "id": "316da7ba",
   "metadata": {},
   "outputs": [],
   "source": [
    "#the heart of our assistant. Takes queries and return answers\n",
    "def querying():\n",
    "    whatsup()\n",
    "    start = True\n",
    "    while(start):\n",
    "        q = transform().lower()\n",
    "        \n",
    "        if 'open youtube' in q:\n",
    "            speak('Starting Youtube in Seconds..')\n",
    "            webbrowser.open('https://www.youtube.com')\n",
    "            continue\n",
    "        elif 'open web browser' in q:\n",
    "            speak('Starting Web Browser in Seconds.')\n",
    "            webbrowser.open('https://www.google.com')\n",
    "            continue\n",
    "            \n",
    "        elif 'what day is it' in q:\n",
    "            query_day()\n",
    "            continue\n",
    "            \n",
    "        elif 'tell me the time' in q:\n",
    "            query_time()\n",
    "            continue\n",
    "        \n",
    "        elif 'switch it off' in q:\n",
    "            speak('i am shutting down. bye. ')\n",
    "            break\n",
    "        \n",
    "        elif 'search wikipedia' in q:\n",
    "            speak('checkhing WIKIPEDIA')\n",
    "            q = q.replace(\"wikipedia\",\"\")\n",
    "            result = wikipedia.summary(q,sentences=2)\n",
    "            speak('found on wikipedia')\n",
    "            speak(result)\n",
    "            continue\n",
    "            \n",
    "        elif \"your name\" in q:\n",
    "            speak('i am elia. Your Virtual Assistant')\n",
    "            continue\n",
    "            \n",
    "        elif \"search web\" in q:\n",
    "            pywhatkit.search(q)\n",
    "            speak('that is what i found')\n",
    "            continue\n",
    "            \n",
    "        elif \"play\" in q:\n",
    "            speak(f'playing {q}')\n",
    "            pywhatkit.playonyt(q)\n",
    "            continue\n",
    "        elif \"joke\" in q:\n",
    "            speak(pyjokes.get_joke())\n",
    "            continue\n",
    "            \n",
    "        elif \"stock price\" in q:\n",
    "            search = q.split(\"of\")[-1].strip()\n",
    "            lookup = {'apple' : 'AAPL',\n",
    "                     'amazon' : 'AMZN',\n",
    "                     'google' : 'GOOGL'}\n",
    "            try:\n",
    "                stock = lookup[search]\n",
    "                stock = yf.Ticker(stock)\n",
    "                currentprice = stock.info[\"regularMarketPrice\"]\n",
    "                speak(f'found it, the price for {search} is {currentprice}')\n",
    "                continue\n",
    "            except:\n",
    "                speak(f'sorry i have no data for {search}')\n",
    "            continue"
   ]
  },
  {
   "cell_type": "code",
   "execution_count": 15,
   "id": "2138a644",
   "metadata": {},
   "outputs": [
    {
     "name": "stdout",
     "output_type": "stream",
     "text": [
      "I am listening\n",
      "I am listening\n",
      "I am listening\n",
      "I am listening\n",
      "I am listening\n",
      "I am listening\n",
      "I am listening\n",
      "I am listening\n",
      "I am listening\n"
     ]
    }
   ],
   "source": [
    "querying()"
   ]
  },
  {
   "cell_type": "code",
   "execution_count": null,
   "id": "fb5d4e92",
   "metadata": {},
   "outputs": [],
   "source": []
  }
 ],
 "metadata": {
  "kernelspec": {
   "display_name": "Python 3",
   "language": "python",
   "name": "python3"
  },
  "language_info": {
   "codemirror_mode": {
    "name": "ipython",
    "version": 3
   },
   "file_extension": ".py",
   "mimetype": "text/x-python",
   "name": "python",
   "nbconvert_exporter": "python",
   "pygments_lexer": "ipython3",
   "version": "3.8.8"
  }
 },
 "nbformat": 4,
 "nbformat_minor": 5
}
